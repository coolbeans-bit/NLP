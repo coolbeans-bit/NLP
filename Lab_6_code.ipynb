{
  "cells": [
    {
      "cell_type": "markdown",
      "metadata": {
        "id": "d2sJx8Zve00h"
      },
      "source": [
        "# Lab 6 - Part of Speech Tagging\n",
        "SIDDHI SUBHEDAR\n",
        "PRN: 1262240621"
      ]
    },
    {
      "cell_type": "markdown",
      "metadata": {
        "id": "qsJqAPCNgAfR"
      },
      "source": [
        "### Imports"
      ]
    },
    {
      "cell_type": "code",
      "execution_count": 11,
      "metadata": {
        "colab": {
          "base_uri": "https://localhost:8080/"
        },
        "id": "w6If_xxrf_9u",
        "outputId": "1f984c45-74ee-48d6-c314-725ed921aad6"
      },
      "outputs": [
        {
          "name": "stderr",
          "output_type": "stream",
          "text": [
            "[nltk_data] Downloading package treebank to /root/nltk_data...\n",
            "[nltk_data]   Package treebank is already up-to-date!\n",
            "[nltk_data] Downloading package punkt to /root/nltk_data...\n",
            "[nltk_data]   Package punkt is already up-to-date!\n",
            "[nltk_data] Downloading package averaged_perceptron_tagger_eng to\n",
            "[nltk_data]     /root/nltk_data...\n",
            "[nltk_data]   Package averaged_perceptron_tagger_eng is already up-to-\n",
            "[nltk_data]       date!\n"
          ]
        },
        {
          "data": {
            "text/plain": [
              "True"
            ]
          },
          "execution_count": 11,
          "metadata": {},
          "output_type": "execute_result"
        }
      ],
      "source": [
        "import nltk\n",
        "from nltk.corpus import treebank\n",
        "from nltk.tokenize import word_tokenize\n",
        "from nltk.tag import pos_tag, UnigramTagger, hmm\n",
        "from nltk.metrics import accuracy\n",
        "import tensorflow as tf\n",
        "from nltk.metrics import accuracy\n",
        "from sklearn.model_selection import train_test_split\n",
        "from tensorflow.keras.preprocessing.sequence import pad_sequences\n",
        "from tensorflow.keras.utils import to_categorical\n",
        "from tensorflow.keras.layers import Embedding, LSTM, Dense, Bidirectional\n",
        "from tensorflow.keras.models import Sequential\n",
        "import numpy as np\n",
        "\n",
        "# Download required NLTK resources\n",
        "nltk.download(\"treebank\")\n",
        "nltk.download(\"punkt\")\n",
        "nltk.download('averaged_perceptron_tagger_eng')"
      ]
    },
    {
      "cell_type": "markdown",
      "metadata": {
        "id": "eXVRkiAIgDzU"
      },
      "source": [
        "### Get Penn Treebank dataset"
      ]
    },
    {
      "cell_type": "code",
      "execution_count": null,
      "metadata": {
        "id": "wnuXE71cgiQP"
      },
      "outputs": [],
      "source": [
        "# Load dataset (Penn Treebank sample)\n",
        "dataset = treebank.tagged_sents()  # List of sentences with tagged words\n",
        "\n",
        "# Split data into train and test sets (80-20 split)\n",
        "split_ratio = int(0.8 * len(dataset))\n",
        "train_data = dataset[:split_ratio]\n",
        "test_data = dataset[split_ratio:]\n",
        "\n",
        "# Extract only words from test data\n",
        "test_sentences = [[word for word, tag in sent] for sent in test_data]\n"
      ]
    },
    {
      "cell_type": "markdown",
      "metadata": {
        "id": "IOTBohfmgoVj"
      },
      "source": [
        "## Rule Based Tagging"
      ]
    },
    {
      "cell_type": "markdown",
      "metadata": {
        "id": "GfCrkjdIgJO5"
      },
      "source": [
        "### Pos_tag"
      ]
    },
    {
      "cell_type": "code",
      "execution_count": 2,
      "metadata": {
        "colab": {
          "base_uri": "https://localhost:8080/"
        },
        "id": "20MlhF4leglo",
        "outputId": "7304f5b9-3af9-47d8-9800-f4d3b71f3000"
      },
      "outputs": [
        {
          "name": "stderr",
          "output_type": "stream",
          "text": [
            "[nltk_data] Downloading package treebank to /root/nltk_data...\n",
            "[nltk_data]   Package treebank is already up-to-date!\n",
            "[nltk_data] Downloading package punkt to /root/nltk_data...\n",
            "[nltk_data]   Package punkt is already up-to-date!\n",
            "[nltk_data] Downloading package averaged_perceptron_tagger_eng to\n",
            "[nltk_data]     /root/nltk_data...\n",
            "[nltk_data]   Unzipping taggers/averaged_perceptron_tagger_eng.zip.\n"
          ]
        },
        {
          "name": "stdout",
          "output_type": "stream",
          "text": [
            "Rule-Based PoS Tagging Accuracy: 10.22%\n"
          ]
        }
      ],
      "source": [
        "\n",
        "# Rule-based PoS tagging using NLTK's pos_tag()\n",
        "predicted_tags = [pos_tag(sent) for sent in test_sentences]\n",
        "\n",
        "# Convert predicted tags to match the test data format\n",
        "predicted_tags_cleaned = [[(word, tag) for word, tag in sent] for sent in predicted_tags]\n",
        "\n",
        "gold_tags = [[(word, tag) for word, tag in sent] for sent in test_data]\n",
        "\n",
        "# Compute accuracy\n",
        "correct = sum(1 for pred, gold in zip(predicted_tags_cleaned, gold_tags) if pred == gold)\n",
        "accuracy_score = correct / len(test_data)\n",
        "print(f\"Rule-Based PoS Tagging Accuracy: {accuracy_score * 100:.2f}%\")\n"
      ]
    },
    {
      "cell_type": "markdown",
      "metadata": {
        "id": "dvJBSM6ugLto"
      },
      "source": [
        "### Unigram Tagger"
      ]
    },
    {
      "cell_type": "code",
      "execution_count": 6,
      "metadata": {
        "colab": {
          "base_uri": "https://localhost:8080/"
        },
        "id": "ukS7Obcce5qi",
        "outputId": "2e1c7443-0e13-4906-c169-f2d5ae44b52c"
      },
      "outputs": [
        {
          "name": "stdout",
          "output_type": "stream",
          "text": [
            "Rule-Based PoS Tagging Accuracy (UnigramTagger): 7.28%\n"
          ]
        }
      ],
      "source": [
        "# Implement Unigram Tagger\n",
        "unigram_tagger = UnigramTagger(train_data)\n",
        "predicted_unigram = [unigram_tagger.tag(sent) for sent in test_sentences]\n",
        "\n",
        "# Compute accuracy for UnigramTagger\n",
        "correct_unigram = sum(1 for pred, gold in zip(predicted_unigram, gold_tags) if pred == gold)\n",
        "accuracy_unigram = correct_unigram / len(test_data)\n",
        "print(f\"Rule-Based PoS Tagging Accuracy (UnigramTagger): {accuracy_unigram * 100:.2f}%\")\n"
      ]
    },
    {
      "cell_type": "markdown",
      "metadata": {
        "id": "_KopHMYVgsY2"
      },
      "source": [
        "## Hidden Markov Model Tagger"
      ]
    },
    {
      "cell_type": "code",
      "execution_count": 8,
      "metadata": {
        "colab": {
          "base_uri": "https://localhost:8080/"
        },
        "id": "xOI8rM3Yf7US",
        "outputId": "a1780a00-00b9-4950-cc85-d7dd827c4dd5"
      },
      "outputs": [
        {
          "name": "stderr",
          "output_type": "stream",
          "text": [
            "/usr/local/lib/python3.11/dist-packages/nltk/tag/hmm.py:333: RuntimeWarning: overflow encountered in cast\n",
            "  X[i, j] = self._transitions[si].logprob(self._states[j])\n",
            "/usr/local/lib/python3.11/dist-packages/nltk/tag/hmm.py:335: RuntimeWarning: overflow encountered in cast\n",
            "  O[i, k] = self._output_logprob(si, self._symbols[k])\n",
            "/usr/local/lib/python3.11/dist-packages/nltk/tag/hmm.py:331: RuntimeWarning: overflow encountered in cast\n",
            "  P[i] = self._priors.logprob(si)\n",
            "/usr/local/lib/python3.11/dist-packages/nltk/tag/hmm.py:363: RuntimeWarning: overflow encountered in cast\n",
            "  O[i, k] = self._output_logprob(si, self._symbols[k])\n"
          ]
        },
        {
          "name": "stdout",
          "output_type": "stream",
          "text": [
            "PoS Tagging Accuracy (HMM Tagger): 9.58%\n"
          ]
        }
      ],
      "source": [
        "# Implement HMM Tagger\n",
        "hmm_trainer = hmm.HiddenMarkovModelTrainer()\n",
        "hmm_tagger = hmm_trainer.train(train_data)\n",
        "predicted_hmm = [hmm_tagger.tag(sent) for sent in test_sentences]\n",
        "\n",
        "# Compute accuracy for HMM Tagger\n",
        "correct_hmm = sum(1 for pred, gold in zip(predicted_hmm, gold_tags) if pred == gold)\n",
        "accuracy_hmm = correct_hmm / len(test_data)\n",
        "print(f\"PoS Tagging Accuracy (HMM Tagger): {accuracy_hmm * 100:.2f}%\")\n"
      ]
    },
    {
      "cell_type": "markdown",
      "metadata": {
        "id": "U6pMQFSShO40"
      },
      "source": [
        "## Deep Learning Based Tagger"
      ]
    },
    {
      "cell_type": "markdown",
      "metadata": {
        "id": "fjexwQGPhRr-"
      },
      "source": [
        "### Bidirectional LSTM"
      ]
    },
    {
      "cell_type": "code",
      "execution_count": null,
      "metadata": {
        "colab": {
          "base_uri": "https://localhost:8080/"
        },
        "id": "MZVha_uxg1WG",
        "outputId": "99c1b062-2d7b-4802-f713-40671889f7cc"
      },
      "outputs": [
        {
          "name": "stderr",
          "output_type": "stream",
          "text": [
            "/usr/local/lib/python3.11/dist-packages/keras/src/layers/core/embedding.py:90: UserWarning: Argument `input_length` is deprecated. Just remove it.\n",
            "  warnings.warn(\n"
          ]
        },
        {
          "name": "stdout",
          "output_type": "stream",
          "text": [
            "Epoch 1/5\n",
            "\u001b[1m98/98\u001b[0m \u001b[32m━━━━━━━━━━━━━━━━━━━━\u001b[0m\u001b[37m\u001b[0m \u001b[1m56s\u001b[0m 500ms/step - accuracy: 0.8630 - loss: 0.8766 - val_accuracy: 0.9208 - val_loss: 0.2761\n",
            "Epoch 2/5\n",
            "\u001b[1m98/98\u001b[0m \u001b[32m━━━━━━━━━━━━━━━━━━━━\u001b[0m\u001b[37m\u001b[0m \u001b[1m81s\u001b[0m 497ms/step - accuracy: 0.9319 - loss: 0.2559 - val_accuracy: 0.9508 - val_loss: 0.2016\n",
            "Epoch 3/5\n",
            "\u001b[1m98/98\u001b[0m \u001b[32m━━━━━━━━━━━━━━━━━━━━\u001b[0m\u001b[37m\u001b[0m \u001b[1m81s\u001b[0m 482ms/step - accuracy: 0.9548 - loss: 0.1760 - val_accuracy: 0.9689 - val_loss: 0.1244\n",
            "Epoch 4/5\n",
            "\u001b[1m98/98\u001b[0m \u001b[32m━━━━━━━━━━━━━━━━━━━━\u001b[0m\u001b[37m\u001b[0m \u001b[1m82s\u001b[0m 486ms/step - accuracy: 0.9741 - loss: 0.1064 - val_accuracy: 0.9846 - val_loss: 0.0744\n",
            "Epoch 5/5\n",
            "\u001b[1m96/98\u001b[0m \u001b[32m━━━━━━━━━━━━━━━━━━━\u001b[0m\u001b[37m━\u001b[0m \u001b[1m0s\u001b[0m 433ms/step - accuracy: 0.9879 - loss: 0.0614"
          ]
        }
      ],
      "source": [
        "# Split data into train and test sets\n",
        "train_data, test_data = train_test_split(dataset, test_size=0.2, random_state=42)\n",
        "\n",
        "# Extract words and tags\n",
        "words = list(set(word for sent in dataset for word, tag in sent))\n",
        "tags = list(set(tag for sent in dataset for word, tag in sent))\n",
        "\n",
        "# Create word-to-index and tag-to-index mappings\n",
        "word2idx = {word: i + 1 for i, word in enumerate(words)}\n",
        "tag2idx = {tag: i for i, tag in enumerate(tags)}\n",
        "idx2tag = {i: tag for tag, i in tag2idx.items()}\n",
        "\n",
        "# Convert sentences and tags to sequences\n",
        "X_train = [[word2idx[word] for word, tag in sent] for sent in train_data]\n",
        "y_train = [[tag2idx[tag] for word, tag in sent] for sent in train_data]\n",
        "X_test = [[word2idx.get(word, 0) for word, tag in sent] for sent in test_data]\n",
        "y_test = [[tag2idx[tag] for word, tag in sent] for sent in test_data]\n",
        "\n",
        "# Pad sequences\n",
        "max_len = max(len(sent) for sent in X_train)\n",
        "X_train = pad_sequences(X_train, maxlen=max_len, padding=\"post\")\n",
        "y_train = pad_sequences(y_train, maxlen=max_len, padding=\"post\")\n",
        "X_test = pad_sequences(X_test, maxlen=max_len, padding=\"post\")\n",
        "y_test = pad_sequences(y_test, maxlen=max_len, padding=\"post\")\n",
        "\n",
        "# One-hot encode labels\n",
        "y_train = [to_categorical(sent, num_classes=len(tags)) for sent in y_train]\n",
        "y_test = [to_categorical(sent, num_classes=len(tags)) for sent in y_test]\n",
        "\n",
        "# Build BiLSTM Model\n",
        "model = Sequential([\n",
        "    Embedding(input_dim=len(words) + 1, output_dim=64, input_length=max_len),\n",
        "    Bidirectional(LSTM(units=100, return_sequences=True)),\n",
        "    Dense(len(tags), activation=\"softmax\")\n",
        "])\n",
        "\n",
        "model.compile(optimizer=\"adam\", loss=\"categorical_crossentropy\", metrics=[\"accuracy\"])\n",
        "\n",
        "# Train Model\n",
        "model.fit(X_train, np.array(y_train), batch_size=32, epochs=5, validation_data=(X_test, np.array(y_test)))\n",
        "\n",
        "# Evaluate Accuracy\n",
        "test_loss, test_acc = model.evaluate(X_test, np.array(y_test))\n",
        "print(f\"PoS Tagging Accuracy (BiLSTM): {test_acc * 100:.2f}%\")\n"
      ]
    },
    {
      "cell_type": "markdown",
      "metadata": {
        "id": "ja6jUiOkxmZh"
      },
      "source": [
        "## Load Twitter dataset"
      ]
    },
    {
      "cell_type": "code",
      "execution_count": 13,
      "metadata": {
        "colab": {
          "base_uri": "https://localhost:8080/"
        },
        "id": "PUF485R_heWo",
        "outputId": "e9bcff47-c917-4d9e-edda-2fa41b56a884"
      },
      "outputs": [
        {
          "name": "stdout",
          "output_type": "stream",
          "text": [
            "Warning: Looks like you're using an outdated `kagglehub` version (installed: 0.3.6), please consider upgrading to the latest version (0.3.7).\n",
            "Downloading from https://www.kaggle.com/api/v1/datasets/download/cosmos98/twitter-and-reddit-sentimental-analysis-dataset?dataset_version_number=1...\n"
          ]
        },
        {
          "name": "stderr",
          "output_type": "stream",
          "text": [
            "100%|██████████| 10.0M/10.0M [00:00<00:00, 49.8MB/s]"
          ]
        },
        {
          "name": "stdout",
          "output_type": "stream",
          "text": [
            "Extracting files...\n"
          ]
        },
        {
          "name": "stderr",
          "output_type": "stream",
          "text": [
            "\n"
          ]
        },
        {
          "name": "stdout",
          "output_type": "stream",
          "text": [
            "Path to dataset files: /root/.cache/kagglehub/datasets/cosmos98/twitter-and-reddit-sentimental-analysis-dataset/versions/1\n"
          ]
        }
      ],
      "source": [
        "import kagglehub\n",
        "\n",
        "# Download latest version\n",
        "path = kagglehub.dataset_download(\"cosmos98/twitter-and-reddit-sentimental-analysis-dataset\")\n",
        "\n",
        "print(\"Path to dataset files:\", path)"
      ]
    },
    {
      "cell_type": "code",
      "execution_count": 18,
      "metadata": {
        "colab": {
          "base_uri": "https://localhost:8080/",
          "height": 206
        },
        "id": "KegX2oibxpqd",
        "outputId": "14387713-876b-44ac-895a-b2f5e3f48931"
      },
      "outputs": [
        {
          "data": {
            "application/vnd.google.colaboratory.intrinsic+json": {
              "type": "dataframe",
              "variable_name": "data"
            },
            "text/html": [
              "\n",
              "  <div id=\"df-57c4c21f-e4e9-43c2-a145-320ee75c5ccd\" class=\"colab-df-container\">\n",
              "    <div>\n",
              "<style scoped>\n",
              "    .dataframe tbody tr th:only-of-type {\n",
              "        vertical-align: middle;\n",
              "    }\n",
              "\n",
              "    .dataframe tbody tr th {\n",
              "        vertical-align: top;\n",
              "    }\n",
              "\n",
              "    .dataframe thead th {\n",
              "        text-align: right;\n",
              "    }\n",
              "</style>\n",
              "<table border=\"1\" class=\"dataframe\">\n",
              "  <thead>\n",
              "    <tr style=\"text-align: right;\">\n",
              "      <th></th>\n",
              "      <th>clean_text</th>\n",
              "      <th>category</th>\n",
              "    </tr>\n",
              "  </thead>\n",
              "  <tbody>\n",
              "    <tr>\n",
              "      <th>0</th>\n",
              "      <td>when modi promised âminimum government maxim...</td>\n",
              "      <td>-1.0</td>\n",
              "    </tr>\n",
              "    <tr>\n",
              "      <th>1</th>\n",
              "      <td>talk all the nonsense and continue all the dra...</td>\n",
              "      <td>0.0</td>\n",
              "    </tr>\n",
              "    <tr>\n",
              "      <th>2</th>\n",
              "      <td>what did just say vote for modi  welcome bjp t...</td>\n",
              "      <td>1.0</td>\n",
              "    </tr>\n",
              "    <tr>\n",
              "      <th>3</th>\n",
              "      <td>asking his supporters prefix chowkidar their n...</td>\n",
              "      <td>1.0</td>\n",
              "    </tr>\n",
              "    <tr>\n",
              "      <th>4</th>\n",
              "      <td>answer who among these the most powerful world...</td>\n",
              "      <td>1.0</td>\n",
              "    </tr>\n",
              "  </tbody>\n",
              "</table>\n",
              "</div>\n",
              "    <div class=\"colab-df-buttons\">\n",
              "\n",
              "  <div class=\"colab-df-container\">\n",
              "    <button class=\"colab-df-convert\" onclick=\"convertToInteractive('df-57c4c21f-e4e9-43c2-a145-320ee75c5ccd')\"\n",
              "            title=\"Convert this dataframe to an interactive table.\"\n",
              "            style=\"display:none;\">\n",
              "\n",
              "  <svg xmlns=\"http://www.w3.org/2000/svg\" height=\"24px\" viewBox=\"0 -960 960 960\">\n",
              "    <path d=\"M120-120v-720h720v720H120Zm60-500h600v-160H180v160Zm220 220h160v-160H400v160Zm0 220h160v-160H400v160ZM180-400h160v-160H180v160Zm440 0h160v-160H620v160ZM180-180h160v-160H180v160Zm440 0h160v-160H620v160Z\"/>\n",
              "  </svg>\n",
              "    </button>\n",
              "\n",
              "  <style>\n",
              "    .colab-df-container {\n",
              "      display:flex;\n",
              "      gap: 12px;\n",
              "    }\n",
              "\n",
              "    .colab-df-convert {\n",
              "      background-color: #E8F0FE;\n",
              "      border: none;\n",
              "      border-radius: 50%;\n",
              "      cursor: pointer;\n",
              "      display: none;\n",
              "      fill: #1967D2;\n",
              "      height: 32px;\n",
              "      padding: 0 0 0 0;\n",
              "      width: 32px;\n",
              "    }\n",
              "\n",
              "    .colab-df-convert:hover {\n",
              "      background-color: #E2EBFA;\n",
              "      box-shadow: 0px 1px 2px rgba(60, 64, 67, 0.3), 0px 1px 3px 1px rgba(60, 64, 67, 0.15);\n",
              "      fill: #174EA6;\n",
              "    }\n",
              "\n",
              "    .colab-df-buttons div {\n",
              "      margin-bottom: 4px;\n",
              "    }\n",
              "\n",
              "    [theme=dark] .colab-df-convert {\n",
              "      background-color: #3B4455;\n",
              "      fill: #D2E3FC;\n",
              "    }\n",
              "\n",
              "    [theme=dark] .colab-df-convert:hover {\n",
              "      background-color: #434B5C;\n",
              "      box-shadow: 0px 1px 3px 1px rgba(0, 0, 0, 0.15);\n",
              "      filter: drop-shadow(0px 1px 2px rgba(0, 0, 0, 0.3));\n",
              "      fill: #FFFFFF;\n",
              "    }\n",
              "  </style>\n",
              "\n",
              "    <script>\n",
              "      const buttonEl =\n",
              "        document.querySelector('#df-57c4c21f-e4e9-43c2-a145-320ee75c5ccd button.colab-df-convert');\n",
              "      buttonEl.style.display =\n",
              "        google.colab.kernel.accessAllowed ? 'block' : 'none';\n",
              "\n",
              "      async function convertToInteractive(key) {\n",
              "        const element = document.querySelector('#df-57c4c21f-e4e9-43c2-a145-320ee75c5ccd');\n",
              "        const dataTable =\n",
              "          await google.colab.kernel.invokeFunction('convertToInteractive',\n",
              "                                                    [key], {});\n",
              "        if (!dataTable) return;\n",
              "\n",
              "        const docLinkHtml = 'Like what you see? Visit the ' +\n",
              "          '<a target=\"_blank\" href=https://colab.research.google.com/notebooks/data_table.ipynb>data table notebook</a>'\n",
              "          + ' to learn more about interactive tables.';\n",
              "        element.innerHTML = '';\n",
              "        dataTable['output_type'] = 'display_data';\n",
              "        await google.colab.output.renderOutput(dataTable, element);\n",
              "        const docLink = document.createElement('div');\n",
              "        docLink.innerHTML = docLinkHtml;\n",
              "        element.appendChild(docLink);\n",
              "      }\n",
              "    </script>\n",
              "  </div>\n",
              "\n",
              "\n",
              "<div id=\"df-ab2cc8f0-1169-4ae7-aa08-df2ec331215c\">\n",
              "  <button class=\"colab-df-quickchart\" onclick=\"quickchart('df-ab2cc8f0-1169-4ae7-aa08-df2ec331215c')\"\n",
              "            title=\"Suggest charts\"\n",
              "            style=\"display:none;\">\n",
              "\n",
              "<svg xmlns=\"http://www.w3.org/2000/svg\" height=\"24px\"viewBox=\"0 0 24 24\"\n",
              "     width=\"24px\">\n",
              "    <g>\n",
              "        <path d=\"M19 3H5c-1.1 0-2 .9-2 2v14c0 1.1.9 2 2 2h14c1.1 0 2-.9 2-2V5c0-1.1-.9-2-2-2zM9 17H7v-7h2v7zm4 0h-2V7h2v10zm4 0h-2v-4h2v4z\"/>\n",
              "    </g>\n",
              "</svg>\n",
              "  </button>\n",
              "\n",
              "<style>\n",
              "  .colab-df-quickchart {\n",
              "      --bg-color: #E8F0FE;\n",
              "      --fill-color: #1967D2;\n",
              "      --hover-bg-color: #E2EBFA;\n",
              "      --hover-fill-color: #174EA6;\n",
              "      --disabled-fill-color: #AAA;\n",
              "      --disabled-bg-color: #DDD;\n",
              "  }\n",
              "\n",
              "  [theme=dark] .colab-df-quickchart {\n",
              "      --bg-color: #3B4455;\n",
              "      --fill-color: #D2E3FC;\n",
              "      --hover-bg-color: #434B5C;\n",
              "      --hover-fill-color: #FFFFFF;\n",
              "      --disabled-bg-color: #3B4455;\n",
              "      --disabled-fill-color: #666;\n",
              "  }\n",
              "\n",
              "  .colab-df-quickchart {\n",
              "    background-color: var(--bg-color);\n",
              "    border: none;\n",
              "    border-radius: 50%;\n",
              "    cursor: pointer;\n",
              "    display: none;\n",
              "    fill: var(--fill-color);\n",
              "    height: 32px;\n",
              "    padding: 0;\n",
              "    width: 32px;\n",
              "  }\n",
              "\n",
              "  .colab-df-quickchart:hover {\n",
              "    background-color: var(--hover-bg-color);\n",
              "    box-shadow: 0 1px 2px rgba(60, 64, 67, 0.3), 0 1px 3px 1px rgba(60, 64, 67, 0.15);\n",
              "    fill: var(--button-hover-fill-color);\n",
              "  }\n",
              "\n",
              "  .colab-df-quickchart-complete:disabled,\n",
              "  .colab-df-quickchart-complete:disabled:hover {\n",
              "    background-color: var(--disabled-bg-color);\n",
              "    fill: var(--disabled-fill-color);\n",
              "    box-shadow: none;\n",
              "  }\n",
              "\n",
              "  .colab-df-spinner {\n",
              "    border: 2px solid var(--fill-color);\n",
              "    border-color: transparent;\n",
              "    border-bottom-color: var(--fill-color);\n",
              "    animation:\n",
              "      spin 1s steps(1) infinite;\n",
              "  }\n",
              "\n",
              "  @keyframes spin {\n",
              "    0% {\n",
              "      border-color: transparent;\n",
              "      border-bottom-color: var(--fill-color);\n",
              "      border-left-color: var(--fill-color);\n",
              "    }\n",
              "    20% {\n",
              "      border-color: transparent;\n",
              "      border-left-color: var(--fill-color);\n",
              "      border-top-color: var(--fill-color);\n",
              "    }\n",
              "    30% {\n",
              "      border-color: transparent;\n",
              "      border-left-color: var(--fill-color);\n",
              "      border-top-color: var(--fill-color);\n",
              "      border-right-color: var(--fill-color);\n",
              "    }\n",
              "    40% {\n",
              "      border-color: transparent;\n",
              "      border-right-color: var(--fill-color);\n",
              "      border-top-color: var(--fill-color);\n",
              "    }\n",
              "    60% {\n",
              "      border-color: transparent;\n",
              "      border-right-color: var(--fill-color);\n",
              "    }\n",
              "    80% {\n",
              "      border-color: transparent;\n",
              "      border-right-color: var(--fill-color);\n",
              "      border-bottom-color: var(--fill-color);\n",
              "    }\n",
              "    90% {\n",
              "      border-color: transparent;\n",
              "      border-bottom-color: var(--fill-color);\n",
              "    }\n",
              "  }\n",
              "</style>\n",
              "\n",
              "  <script>\n",
              "    async function quickchart(key) {\n",
              "      const quickchartButtonEl =\n",
              "        document.querySelector('#' + key + ' button');\n",
              "      quickchartButtonEl.disabled = true;  // To prevent multiple clicks.\n",
              "      quickchartButtonEl.classList.add('colab-df-spinner');\n",
              "      try {\n",
              "        const charts = await google.colab.kernel.invokeFunction(\n",
              "            'suggestCharts', [key], {});\n",
              "      } catch (error) {\n",
              "        console.error('Error during call to suggestCharts:', error);\n",
              "      }\n",
              "      quickchartButtonEl.classList.remove('colab-df-spinner');\n",
              "      quickchartButtonEl.classList.add('colab-df-quickchart-complete');\n",
              "    }\n",
              "    (() => {\n",
              "      let quickchartButtonEl =\n",
              "        document.querySelector('#df-ab2cc8f0-1169-4ae7-aa08-df2ec331215c button');\n",
              "      quickchartButtonEl.style.display =\n",
              "        google.colab.kernel.accessAllowed ? 'block' : 'none';\n",
              "    })();\n",
              "  </script>\n",
              "</div>\n",
              "\n",
              "    </div>\n",
              "  </div>\n"
            ],
            "text/plain": [
              "                                          clean_text  category\n",
              "0  when modi promised âminimum government maxim...      -1.0\n",
              "1  talk all the nonsense and continue all the dra...       0.0\n",
              "2  what did just say vote for modi  welcome bjp t...       1.0\n",
              "3  asking his supporters prefix chowkidar their n...       1.0\n",
              "4  answer who among these the most powerful world...       1.0"
            ]
          },
          "execution_count": 18,
          "metadata": {},
          "output_type": "execute_result"
        }
      ],
      "source": [
        "import pandas as pd\n",
        "import os\n",
        "\n",
        "data = pd.read_csv(os.path.join(path,\"Twitter_Data.csv\"), encoding=\"ISO-8859-1\")\n",
        "data.head()"
      ]
    },
    {
      "cell_type": "code",
      "execution_count": 19,
      "metadata": {
        "colab": {
          "base_uri": "https://localhost:8080/"
        },
        "id": "_IXV6kosydUt",
        "outputId": "d72384b0-a6ba-4a5e-8749-30a96a1712d0"
      },
      "outputs": [
        {
          "data": {
            "text/plain": [
              "array([-1.,  1., nan])"
            ]
          },
          "execution_count": 19,
          "metadata": {},
          "output_type": "execute_result"
        }
      ],
      "source": [
        "# drop rows where category is 0 (neutral)\n",
        "\n",
        "df = data[data['category']!=0]\n",
        "df['category'].unique()"
      ]
    },
    {
      "cell_type": "code",
      "execution_count": 20,
      "metadata": {
        "colab": {
          "base_uri": "https://localhost:8080/",
          "height": 146
        },
        "id": "ULdnvuslx7wm",
        "outputId": "0ce30dbd-aaf6-47ca-e8ec-e929d2c8d42d"
      },
      "outputs": [
        {
          "data": {
            "text/html": [
              "<div>\n",
              "<style scoped>\n",
              "    .dataframe tbody tr th:only-of-type {\n",
              "        vertical-align: middle;\n",
              "    }\n",
              "\n",
              "    .dataframe tbody tr th {\n",
              "        vertical-align: top;\n",
              "    }\n",
              "\n",
              "    .dataframe thead th {\n",
              "        text-align: right;\n",
              "    }\n",
              "</style>\n",
              "<table border=\"1\" class=\"dataframe\">\n",
              "  <thead>\n",
              "    <tr style=\"text-align: right;\">\n",
              "      <th></th>\n",
              "      <th>0</th>\n",
              "    </tr>\n",
              "  </thead>\n",
              "  <tbody>\n",
              "    <tr>\n",
              "      <th>clean_text</th>\n",
              "      <td>0</td>\n",
              "    </tr>\n",
              "    <tr>\n",
              "      <th>category</th>\n",
              "      <td>0</td>\n",
              "    </tr>\n",
              "  </tbody>\n",
              "</table>\n",
              "</div><br><label><b>dtype:</b> int64</label>"
            ],
            "text/plain": [
              "clean_text    0\n",
              "category      0\n",
              "dtype: int64"
            ]
          },
          "execution_count": 20,
          "metadata": {},
          "output_type": "execute_result"
        }
      ],
      "source": [
        "# remove nan\n",
        "\n",
        "df = df.dropna()\n",
        "df.isna().sum()"
      ]
    },
    {
      "cell_type": "code",
      "execution_count": 23,
      "metadata": {
        "colab": {
          "base_uri": "https://localhost:8080/"
        },
        "id": "5XKgUX_m2Ydz",
        "outputId": "ed701698-10ef-4acc-8b3d-2cfba7a5959e"
      },
      "outputs": [
        {
          "data": {
            "text/plain": [
              "(107758, 2)"
            ]
          },
          "execution_count": 23,
          "metadata": {},
          "output_type": "execute_result"
        }
      ],
      "source": [
        "df.shape"
      ]
    },
    {
      "cell_type": "markdown",
      "metadata": {
        "id": "9-aWipyJ6qlR"
      },
      "source": [
        "### balance classes"
      ]
    },
    {
      "cell_type": "code",
      "execution_count": 38,
      "metadata": {
        "colab": {
          "base_uri": "https://localhost:8080/"
        },
        "id": "9A59h_Cr2eBt",
        "outputId": "2cd586b5-0968-4985-de1b-f3b5e475921b"
      },
      "outputs": [
        {
          "name": "stdout",
          "output_type": "stream",
          "text": [
            "(30000, 2)\n",
            "                                          clean_text  category\n",
            "0  desperately waiting watch the not movie review...      -1.0\n",
            "1  madam kanpur and akbarpur seat will loose cand...      -1.0\n",
            "2  everything that happened under nehru gandhi du...      -1.0\n",
            "3  funny that such renowned writer doesnt know th...      -1.0\n",
            "4  and all this possible only due the efforts inv...      -1.0\n"
          ]
        }
      ],
      "source": [
        "count=15000\n",
        "\n",
        "import pandas as pd\n",
        "\n",
        "# Get the counts of each class\n",
        "class_counts = df['category'].value_counts()\n",
        "\n",
        "sampled_dfs = {}\n",
        "\n",
        "for category in df['category'].unique():\n",
        "    sampled_dfs[category] = df[df['category'] == category].sample(min(count, class_counts[category]), random_state=42)\n",
        "\n",
        "new_df = pd.concat(sampled_dfs.values(), ignore_index=True)\n",
        "\n",
        "print(new_df.shape)\n",
        "print(new_df.head())\n"
      ]
    },
    {
      "cell_type": "code",
      "execution_count": 39,
      "metadata": {
        "colab": {
          "base_uri": "https://localhost:8080/"
        },
        "id": "40ERoty9yzZ2",
        "outputId": "94ad2852-e817-4519-def6-df1daed94a3f"
      },
      "outputs": [
        {
          "data": {
            "text/plain": [
              "array([-1.,  1.])"
            ]
          },
          "execution_count": 39,
          "metadata": {},
          "output_type": "execute_result"
        }
      ],
      "source": [
        "new_df['category'].unique()"
      ]
    },
    {
      "cell_type": "markdown",
      "metadata": {
        "id": "iS6LWOAq4fj1"
      },
      "source": [
        "### using Bi-directional LSTM model trained above to tag Part of Speech in clean_text"
      ]
    },
    {
      "cell_type": "code",
      "execution_count": 40,
      "metadata": {
        "colab": {
          "base_uri": "https://localhost:8080/"
        },
        "id": "MOQvUj7wy2by",
        "outputId": "a319ffce-46ba-47d1-a760-37d64100791c"
      },
      "outputs": [
        {
          "name": "stdout",
          "output_type": "stream",
          "text": [
            "\u001b[1m938/938\u001b[0m \u001b[32m━━━━━━━━━━━━━━━━━━━━\u001b[0m\u001b[37m\u001b[0m \u001b[1m117s\u001b[0m 124ms/step\n",
            "Text: desperately waiting watch the not movie review upcoming narendra modi please the first day release \n",
            "Predicted PoS Tags: ['NNP', 'PRP', 'NN', 'DT', 'RB', 'NN', 'NN', 'PRP', 'PRP', 'PRP', 'PRP', 'PRP', 'PRP', 'PRP', 'PRP', 'PRP', 'PRP', 'PRP', 'PRP', 'PRP', 'PRP', 'PRP', 'PRP', 'PRP', 'PRP', 'PRP', 'PRP', 'PRP', 'PRP', 'PRP', 'PRP', 'PRP', 'PRP', 'PRP', 'PRP', 'PRP', 'PRP', 'PRP', 'PRP', 'PRP', 'PRP', 'PRP', 'PRP', 'PRP', 'PRP', 'PRP', 'PRP', 'PRP', 'PRP', 'PRP', 'PRP', 'PRP', 'PRP', 'PRP', 'PRP', 'PRP', 'PRP', 'PRP', 'PRP', 'PRP', 'PRP', 'PRP', 'PRP', 'PRP', 'PRP', 'PRP', 'PRP', 'PRP', 'PRP', 'PRP', 'PRP', 'PRP', 'PRP', 'PRP', 'PRP', 'PRP', 'PRP', 'PRP', 'PRP', 'PRP', 'PRP', 'PRP', 'PRP', 'PRP', 'PRP', 'PRP', 'PRP', 'PRP', 'PRP', 'PRP', 'PRP', 'PRP', 'PRP', 'PRP', 'PRP', 'PRP', 'PRP', 'PRP', 'PRP', 'PRP', 'PRP', 'PRP', 'PRP', 'PRP', 'PRP', 'PRP', 'PRP', 'PRP', 'PRP', 'PRP', 'PRP', 'PRP', 'PRP', 'PRP', 'PRP', 'PRP', 'PRP', 'PRP', 'PRP', 'PRP', 'PRP', 'PRP', 'PRP', 'PRP', 'PRP', 'PRP', 'PRP', 'PRP', 'PRP', 'PRP', 'PRP', 'PRP', 'PRP', 'PRP', 'PRP', 'PRP', 'PRP', 'PRP', 'PRP', 'PRP', 'PRP', 'PRP', 'PRP', 'PRP', 'PRP', 'PRP', 'PRP', 'PRP', 'PRP', 'PRP', 'PRP', 'PRP', 'PRP', 'PRP', 'PRP', 'PRP', 'PRP', 'PRP', 'PRP', 'PRP', 'PRP', 'PRP', 'PRP', 'PRP', 'PRP', 'PRP', 'PRP', 'PRP', 'PRP', 'PRP', 'PRP', 'PRP', 'PRP', 'PRP', 'PRP', 'PRP', 'PRP', 'PRP', 'PRP', 'PRP', 'PRP', 'PRP', 'PRP', 'PRP', 'PRP', 'PRP', 'PRP', 'PRP', 'PRP', 'PRP', 'PRP', 'PRP', 'PRP', 'PRP', 'PRP', 'PRP', 'PRP', 'PRP', 'PRP', 'PRP', 'PRP', 'PRP', 'PRP', 'PRP', 'PRP', 'PRP', 'PRP', 'PRP', 'PRP', 'PRP', 'PRP', 'PRP', 'PRP', 'PRP', 'PRP', 'PRP', 'PRP', 'PRP', 'PRP', 'PRP', 'PRP', 'PRP', 'PRP', 'PRP', 'PRP', 'PRP', 'PRP', 'PRP', 'PRP', 'PRP', 'PRP', 'PRP', 'PRP', 'PRP', 'PRP', 'PRP', 'PRP', 'PRP', 'PRP', 'PRP', 'PRP', 'PRP', 'PRP', 'PRP', 'PRP', 'PRP', 'PRP', 'PRP', 'PRP', 'PRP', 'PRP', 'PRP', 'PRP', 'PRP', 'PRP', 'PRP', 'PRP', 'PRP', 'PRP', 'PRP', 'PRP', 'PRP', 'PRP', 'PRP', 'PRP', 'PRP', 'PRP', 'PRP', 'PRP', 'PRP', 'PRP']\n",
            "\n",
            "Text: madam kanpur and akbarpur seat will loose candidates having very bad image there modi alone cannot make such the extent the damage done present mps needed someone big from kanpur\n",
            "Predicted PoS Tags: ['PRP', 'PRP', 'PRP', 'PRP', 'PRP', 'PRP', 'PRP', 'PRP', 'PRP', 'PRP', 'PRP', 'PRP', 'PRP', 'PRP', 'PRP', 'PRP', 'PRP', 'PRP', 'DT', 'PRP', 'DT', 'PRP', 'PRP', 'PRP', 'PRP', 'PRP', 'PRP', 'PRP', 'PRP', 'PRP', 'PRP', 'PRP', 'PRP', 'PRP', 'PRP', 'PRP', 'PRP', 'PRP', 'PRP', 'PRP', 'PRP', 'PRP', 'PRP', 'PRP', 'PRP', 'PRP', 'PRP', 'PRP', 'PRP', 'PRP', 'PRP', 'PRP', 'PRP', 'PRP', 'PRP', 'PRP', 'PRP', 'PRP', 'PRP', 'PRP', 'PRP', 'PRP', 'PRP', 'PRP', 'PRP', 'PRP', 'PRP', 'PRP', 'PRP', 'PRP', 'PRP', 'PRP', 'PRP', 'PRP', 'PRP', 'PRP', 'PRP', 'PRP', 'PRP', 'PRP', 'PRP', 'PRP', 'PRP', 'PRP', 'PRP', 'PRP', 'PRP', 'PRP', 'PRP', 'PRP', 'PRP', 'PRP', 'PRP', 'PRP', 'PRP', 'PRP', 'PRP', 'PRP', 'PRP', 'PRP', 'PRP', 'PRP', 'PRP', 'PRP', 'PRP', 'PRP', 'PRP', 'PRP', 'PRP', 'PRP', 'PRP', 'PRP', 'PRP', 'PRP', 'PRP', 'PRP', 'PRP', 'PRP', 'PRP', 'PRP', 'PRP', 'PRP', 'PRP', 'PRP', 'PRP', 'PRP', 'PRP', 'PRP', 'PRP', 'PRP', 'PRP', 'PRP', 'PRP', 'PRP', 'PRP', 'PRP', 'PRP', 'PRP', 'PRP', 'PRP', 'PRP', 'PRP', 'PRP', 'PRP', 'PRP', 'PRP', 'PRP', 'PRP', 'PRP', 'PRP', 'PRP', 'PRP', 'PRP', 'PRP', 'PRP', 'PRP', 'PRP', 'PRP', 'PRP', 'PRP', 'PRP', 'PRP', 'PRP', 'PRP', 'PRP', 'PRP', 'PRP', 'PRP', 'PRP', 'PRP', 'PRP', 'PRP', 'PRP', 'PRP', 'PRP', 'PRP', 'PRP', 'PRP', 'PRP', 'PRP', 'PRP', 'PRP', 'PRP', 'PRP', 'PRP', 'PRP', 'PRP', 'PRP', 'PRP', 'PRP', 'PRP', 'PRP', 'PRP', 'PRP', 'PRP', 'PRP', 'PRP', 'PRP', 'PRP', 'PRP', 'PRP', 'PRP', 'PRP', 'PRP', 'PRP', 'PRP', 'PRP', 'PRP', 'PRP', 'PRP', 'PRP', 'PRP', 'PRP', 'PRP', 'PRP', 'PRP', 'PRP', 'PRP', 'PRP', 'PRP', 'PRP', 'PRP', 'PRP', 'PRP', 'PRP', 'PRP', 'PRP', 'PRP', 'PRP', 'PRP', 'PRP', 'PRP', 'PRP', 'PRP', 'PRP', 'PRP', 'PRP', 'PRP', 'PRP', 'PRP', 'PRP', 'PRP', 'PRP', 'PRP', 'PRP', 'PRP', 'PRP', 'PRP', 'PRP', 'PRP', 'PRP', 'PRP', 'PRP', 'PRP', 'PRP', 'PRP', 'PRP', 'PRP', 'PRP', 'PRP', 'PRP', 'PRP', 'PRP', 'PRP', 'PRP', 'PRP', 'PRP', 'PRP', 'PRP', 'PRP', 'PRP']\n",
            "\n",
            "Text: everything that happened under nehru gandhi due their vision and selflessness whereas everything that happened under modi also due nehru gandhi vision and merely uses bolster his vanity isnt stupid logic\n",
            "Predicted PoS Tags: ['NN', 'IN', 'JJ', 'IN', 'PRP', 'PRP', 'PRP', 'PRP', 'PRP', 'PRP', 'PRP', 'PRP', 'PRP', 'PRP', 'PRP', 'PRP', 'PRP', 'PRP', 'PRP', 'PRP', 'PRP', 'PRP', 'PRP', 'PRP', 'PRP', 'PRP', 'PRP', 'PRP', 'PRP', 'PRP', 'PRP', 'PRP', 'PRP', 'PRP', 'PRP', 'PRP', 'PRP', 'PRP', 'PRP', 'PRP', 'PRP', 'PRP', 'PRP', 'PRP', 'PRP', 'PRP', 'PRP', 'PRP', 'PRP', 'PRP', 'PRP', 'PRP', 'PRP', 'PRP', 'PRP', 'PRP', 'PRP', 'PRP', 'PRP', 'PRP', 'PRP', 'PRP', 'PRP', 'PRP', 'PRP', 'PRP', 'PRP', 'PRP', 'PRP', 'PRP', 'PRP', 'PRP', 'PRP', 'PRP', 'PRP', 'PRP', 'PRP', 'PRP', 'PRP', 'PRP', 'PRP', 'PRP', 'PRP', 'PRP', 'PRP', 'PRP', 'PRP', 'PRP', 'PRP', 'PRP', 'PRP', 'PRP', 'PRP', 'PRP', 'PRP', 'PRP', 'PRP', 'PRP', 'PRP', 'PRP', 'PRP', 'PRP', 'PRP', 'PRP', 'PRP', 'PRP', 'PRP', 'PRP', 'PRP', 'PRP', 'PRP', 'PRP', 'PRP', 'PRP', 'PRP', 'PRP', 'PRP', 'PRP', 'PRP', 'PRP', 'PRP', 'PRP', 'PRP', 'PRP', 'PRP', 'PRP', 'PRP', 'PRP', 'PRP', 'PRP', 'PRP', 'PRP', 'PRP', 'PRP', 'PRP', 'PRP', 'PRP', 'PRP', 'PRP', 'PRP', 'PRP', 'PRP', 'PRP', 'PRP', 'PRP', 'PRP', 'PRP', 'PRP', 'PRP', 'PRP', 'PRP', 'PRP', 'PRP', 'PRP', 'PRP', 'PRP', 'PRP', 'PRP', 'PRP', 'PRP', 'PRP', 'PRP', 'PRP', 'PRP', 'PRP', 'PRP', 'PRP', 'PRP', 'PRP', 'PRP', 'PRP', 'PRP', 'PRP', 'PRP', 'PRP', 'PRP', 'PRP', 'PRP', 'PRP', 'PRP', 'PRP', 'PRP', 'PRP', 'PRP', 'PRP', 'PRP', 'PRP', 'PRP', 'PRP', 'PRP', 'PRP', 'PRP', 'PRP', 'PRP', 'PRP', 'PRP', 'PRP', 'PRP', 'PRP', 'PRP', 'PRP', 'PRP', 'PRP', 'PRP', 'PRP', 'PRP', 'PRP', 'PRP', 'PRP', 'PRP', 'PRP', 'PRP', 'PRP', 'PRP', 'PRP', 'PRP', 'PRP', 'PRP', 'PRP', 'PRP', 'PRP', 'PRP', 'PRP', 'PRP', 'PRP', 'PRP', 'PRP', 'PRP', 'PRP', 'PRP', 'PRP', 'PRP', 'PRP', 'PRP', 'PRP', 'PRP', 'PRP', 'PRP', 'PRP', 'PRP', 'PRP', 'PRP', 'PRP', 'PRP', 'PRP', 'PRP', 'PRP', 'PRP', 'PRP', 'PRP', 'PRP', 'PRP', 'PRP', 'PRP', 'PRP', 'PRP', 'PRP', 'PRP', 'PRP', 'PRP', 'PRP', 'PRP', 'PRP', 'PRP', 'PRP', 'PRP', 'PRP', 'PRP', 'PRP', 'PRP', 'PRP']\n",
            "\n",
            "Text: funny that such renowned writer doesnt know that previous law required the villagers approve acquisition whereas what modi passed was only and that one could ever court future pls check facts you failed writer\n",
            "Predicted PoS Tags: ['NNP', 'IN', 'JJ', 'PRP', 'PRP', 'PRP', 'PRP', 'PRP', 'PRP', 'PRP', 'PRP', 'DT', 'PRP', 'PRP', 'PRP', 'PRP', 'PRP', 'PRP', 'PRP', 'PRP', 'PRP', 'PRP', 'PRP', 'PRP', 'PRP', 'PRP', 'PRP', 'PRP', 'PRP', 'PRP', 'PRP', 'PRP', 'PRP', 'PRP', 'PRP', 'PRP', 'PRP', 'PRP', 'PRP', 'PRP', 'PRP', 'PRP', 'PRP', 'PRP', 'PRP', 'PRP', 'PRP', 'PRP', 'PRP', 'PRP', 'PRP', 'PRP', 'PRP', 'PRP', 'PRP', 'PRP', 'PRP', 'PRP', 'PRP', 'PRP', 'PRP', 'PRP', 'PRP', 'PRP', 'PRP', 'PRP', 'PRP', 'PRP', 'PRP', 'PRP', 'PRP', 'PRP', 'PRP', 'PRP', 'PRP', 'PRP', 'PRP', 'PRP', 'PRP', 'PRP', 'PRP', 'PRP', 'PRP', 'PRP', 'PRP', 'PRP', 'PRP', 'PRP', 'PRP', 'PRP', 'PRP', 'PRP', 'PRP', 'PRP', 'PRP', 'PRP', 'PRP', 'PRP', 'PRP', 'PRP', 'PRP', 'PRP', 'PRP', 'PRP', 'PRP', 'PRP', 'PRP', 'PRP', 'PRP', 'PRP', 'PRP', 'PRP', 'PRP', 'PRP', 'PRP', 'PRP', 'PRP', 'PRP', 'PRP', 'PRP', 'PRP', 'PRP', 'PRP', 'PRP', 'PRP', 'PRP', 'PRP', 'PRP', 'PRP', 'PRP', 'PRP', 'PRP', 'PRP', 'PRP', 'PRP', 'PRP', 'PRP', 'PRP', 'PRP', 'PRP', 'PRP', 'PRP', 'PRP', 'PRP', 'PRP', 'PRP', 'PRP', 'PRP', 'PRP', 'PRP', 'PRP', 'PRP', 'PRP', 'PRP', 'PRP', 'PRP', 'PRP', 'PRP', 'PRP', 'PRP', 'PRP', 'PRP', 'PRP', 'PRP', 'PRP', 'PRP', 'PRP', 'PRP', 'PRP', 'PRP', 'PRP', 'PRP', 'PRP', 'PRP', 'PRP', 'PRP', 'PRP', 'PRP', 'PRP', 'PRP', 'PRP', 'PRP', 'PRP', 'PRP', 'PRP', 'PRP', 'PRP', 'PRP', 'PRP', 'PRP', 'PRP', 'PRP', 'PRP', 'PRP', 'PRP', 'PRP', 'PRP', 'PRP', 'PRP', 'PRP', 'PRP', 'PRP', 'PRP', 'PRP', 'PRP', 'PRP', 'PRP', 'PRP', 'PRP', 'PRP', 'PRP', 'PRP', 'PRP', 'PRP', 'PRP', 'PRP', 'PRP', 'PRP', 'PRP', 'PRP', 'PRP', 'PRP', 'PRP', 'PRP', 'PRP', 'PRP', 'PRP', 'PRP', 'PRP', 'PRP', 'PRP', 'PRP', 'PRP', 'PRP', 'PRP', 'PRP', 'PRP', 'PRP', 'PRP', 'PRP', 'PRP', 'PRP', 'PRP', 'PRP', 'PRP', 'PRP', 'PRP', 'PRP', 'PRP', 'PRP', 'PRP', 'PRP', 'PRP', 'PRP', 'PRP', 'PRP', 'PRP', 'PRP', 'PRP', 'PRP', 'PRP', 'PRP', 'PRP', 'PRP', 'PRP', 'PRP', 'PRP', 'PRP', 'PRP', 'PRP', 'PRP']\n",
            "\n",
            "Text: and all this possible only due the efforts invisible modi post 2014 prior that indian scientists never existed for that matter india was the dark ages what attention seeking clown this guy\n",
            "Predicted PoS Tags: ['CC', 'DT', 'DT', 'JJ', 'RB', 'JJ', 'DT', 'NNS', 'PRP', 'PRP', 'PRP', 'PRP', 'PRP', 'PRP', 'PRP', 'PRP', 'PRP', 'PRP', 'PRP', 'PRP', 'PRP', 'PRP', 'PRP', 'DT', 'PRP', 'PRP', 'PRP', 'PRP', 'PRP', 'PRP', 'PRP', 'PRP', 'PRP', 'PRP', 'PRP', 'PRP', 'PRP', 'PRP', 'PRP', 'PRP', 'PRP', 'PRP', 'PRP', 'PRP', 'PRP', 'PRP', 'PRP', 'PRP', 'PRP', 'PRP', 'PRP', 'PRP', 'PRP', 'PRP', 'PRP', 'PRP', 'PRP', 'PRP', 'PRP', 'PRP', 'PRP', 'PRP', 'PRP', 'PRP', 'PRP', 'PRP', 'PRP', 'PRP', 'PRP', 'PRP', 'PRP', 'PRP', 'PRP', 'PRP', 'PRP', 'PRP', 'PRP', 'PRP', 'PRP', 'PRP', 'PRP', 'PRP', 'PRP', 'PRP', 'PRP', 'PRP', 'PRP', 'PRP', 'PRP', 'PRP', 'PRP', 'PRP', 'PRP', 'PRP', 'PRP', 'PRP', 'PRP', 'PRP', 'PRP', 'PRP', 'PRP', 'PRP', 'PRP', 'PRP', 'PRP', 'PRP', 'PRP', 'PRP', 'PRP', 'PRP', 'PRP', 'PRP', 'PRP', 'PRP', 'PRP', 'PRP', 'PRP', 'PRP', 'PRP', 'PRP', 'PRP', 'PRP', 'PRP', 'PRP', 'PRP', 'PRP', 'PRP', 'PRP', 'PRP', 'PRP', 'PRP', 'PRP', 'PRP', 'PRP', 'PRP', 'PRP', 'PRP', 'PRP', 'PRP', 'PRP', 'PRP', 'PRP', 'PRP', 'PRP', 'PRP', 'PRP', 'PRP', 'PRP', 'PRP', 'PRP', 'PRP', 'PRP', 'PRP', 'PRP', 'PRP', 'PRP', 'PRP', 'PRP', 'PRP', 'PRP', 'PRP', 'PRP', 'PRP', 'PRP', 'PRP', 'PRP', 'PRP', 'PRP', 'PRP', 'PRP', 'PRP', 'PRP', 'PRP', 'PRP', 'PRP', 'PRP', 'PRP', 'PRP', 'PRP', 'PRP', 'PRP', 'PRP', 'PRP', 'PRP', 'PRP', 'PRP', 'PRP', 'PRP', 'PRP', 'PRP', 'PRP', 'PRP', 'PRP', 'PRP', 'PRP', 'PRP', 'PRP', 'PRP', 'PRP', 'PRP', 'PRP', 'PRP', 'PRP', 'PRP', 'PRP', 'PRP', 'PRP', 'PRP', 'PRP', 'PRP', 'PRP', 'PRP', 'PRP', 'PRP', 'PRP', 'PRP', 'PRP', 'PRP', 'PRP', 'PRP', 'PRP', 'PRP', 'PRP', 'PRP', 'PRP', 'PRP', 'PRP', 'PRP', 'PRP', 'PRP', 'PRP', 'PRP', 'PRP', 'PRP', 'PRP', 'PRP', 'PRP', 'PRP', 'PRP', 'PRP', 'PRP', 'PRP', 'PRP', 'PRP', 'PRP', 'PRP', 'PRP', 'PRP', 'PRP', 'PRP', 'PRP', 'PRP', 'PRP', 'PRP', 'PRP', 'PRP', 'PRP', 'PRP', 'PRP', 'PRP', 'PRP', 'PRP', 'PRP', 'PRP', 'PRP', 'PRP', 'PRP', 'PRP', 'PRP', 'PRP', 'PRP']\n",
            "\n"
          ]
        }
      ],
      "source": [
        "\n",
        "# Tokenize clean text and convert words to indices\n",
        "X_clean = [[word2idx.get(word, 0) for word in clean_text.split()] for clean_text in new_df['clean_text']]\n",
        "\n",
        "# Pad sequences\n",
        "X_clean = pad_sequences(X_clean, maxlen=max_len, padding=\"post\")\n",
        "\n",
        "# Predict PoS tags using the BiLSTM model\n",
        "y_pred = model.predict(X_clean)\n",
        "\n",
        "# Convert the predicted one-hot encoded labels back to tag indices\n",
        "y_pred_tags = np.argmax(y_pred, axis=-1)\n",
        "\n",
        "# Map predicted tag indices to actual tags\n",
        "predicted_tags = [[idx2tag[tag] for tag in sent] for sent in y_pred_tags]\n",
        "\n",
        "# Display predicted PoS tags for the first few sentences\n",
        "for i in range(5):  # Displaying first 5 sentences\n",
        "    print(f\"Text: {new_df['clean_text'][i]}\")\n",
        "    print(f\"Predicted PoS Tags: {predicted_tags[i]}\")\n",
        "    print()"
      ]
    },
    {
      "cell_type": "code",
      "execution_count": 41,
      "metadata": {
        "colab": {
          "base_uri": "https://localhost:8080/"
        },
        "id": "ETw0o-sA1-v9",
        "outputId": "cb883391-d4a6-4cdc-92b8-b76a4e094d41"
      },
      "outputs": [
        {
          "data": {
            "text/plain": [
              "array([[12, 15, 11, ..., 15, 15, 15],\n",
              "       [15, 11,  6, ..., 15, 15, 15],\n",
              "       [11,  6, 17, ..., 15, 15, 15],\n",
              "       ...,\n",
              "       [15, 15, 15, ..., 15, 15, 15],\n",
              "       [15, 15, 15, ..., 15, 15, 15],\n",
              "       [15, 15, 15, ..., 15, 15, 15]])"
            ]
          },
          "execution_count": 41,
          "metadata": {},
          "output_type": "execute_result"
        }
      ],
      "source": [
        "# Feature extraction from predicted PoS tags (using one-hot encoding or frequency count)\n",
        "from sklearn.preprocessing import LabelEncoder\n",
        "\n",
        "# Flatten the predicted tags to encode each tag as a feature\n",
        "flattened_tags = [tag for sublist in predicted_tags for tag in sublist]\n",
        "tag_encoder = LabelEncoder()\n",
        "tag_encoded = tag_encoder.fit_transform(flattened_tags)\n",
        "\n",
        "# Reshape to get features for each sentence (by aggregating tags for the sentence)\n",
        "tag_features = [tag_encoded[i:i+len(sent)] for i, sent in enumerate(predicted_tags)]\n",
        "\n",
        "# Convert to the format you want to use for model training\n",
        "tag_features = np.array([np.array(sent) for sent in tag_features])\n",
        "\n",
        "# Label encoding for the target (classification labels: 1 or -1)\n",
        "y_class = new_df['category'].values  # Assuming 'category' is your target\n",
        "\n",
        "# Train-test split for the classification model\n",
        "from sklearn.model_selection import train_test_split\n",
        "X_train_class, X_test_class, y_train_class, y_test_class = train_test_split(tag_features, y_class, test_size=0.2, random_state=42)\n",
        "\n",
        "tag_features"
      ]
    },
    {
      "cell_type": "code",
      "execution_count": 42,
      "metadata": {
        "colab": {
          "base_uri": "https://localhost:8080/"
        },
        "id": "As4f4jCv2PcK",
        "outputId": "188f285d-1903-44ef-ff64-2cae1413b58a"
      },
      "outputs": [
        {
          "name": "stdout",
          "output_type": "stream",
          "text": [
            "Classification Accuracy: 52.07%\n"
          ]
        }
      ],
      "source": [
        "from sklearn.ensemble import RandomForestClassifier\n",
        "from sklearn.metrics import accuracy_score\n",
        "\n",
        "# Train a Random Forest classifier on the PoS tag features\n",
        "classifier = RandomForestClassifier(n_estimators=100, random_state=42)\n",
        "classifier.fit(X_train_class, y_train_class)\n",
        "\n",
        "# Predict on the test set\n",
        "y_pred_class = classifier.predict(X_test_class)\n",
        "\n",
        "# Evaluate the classification model\n",
        "accuracy = accuracy_score(y_test_class, y_pred_class)\n",
        "print(f\"Classification Accuracy: {accuracy * 100:.2f}%\")"
      ]
    },
    {
      "cell_type": "code",
      "execution_count": 43,
      "metadata": {
        "colab": {
          "base_uri": "https://localhost:8080/",
          "height": 466
        },
        "id": "mT2uYpmM3eDa",
        "outputId": "098f378a-2ff1-48c9-9686-596758a14d14"
      },
      "outputs": [
        {
          "data": {
            "text/plain": [
              "<sklearn.metrics._plot.confusion_matrix.ConfusionMatrixDisplay at 0x7df605c3be90>"
            ]
          },
          "execution_count": 43,
          "metadata": {},
          "output_type": "execute_result"
        },
        {
          "data": {
            "image/png": "[encoded data removed]",
            "text/plain": [
              "<Figure size 640x480 with 2 Axes>"
            ]
          },
          "metadata": {},
          "output_type": "display_data"
        }
      ],
      "source": [
        "from sklearn.metrics import precision_score, recall_score, ConfusionMatrixDisplay, confusion_matrix\n",
        "import matplotlib.pyplot as plt\n",
        "\n",
        "cm = confusion_matrix(y_test_class, y_pred_class)\n",
        "disp = ConfusionMatrixDisplay(confusion_matrix=cm, display_labels=classifier.classes_)\n",
        "disp.plot()"
      ]
    },
    {
      "cell_type": "code",
      "execution_count": null,
      "metadata": {
        "id": "PZKNsqWP5Pqv"
      },
      "outputs": [],
      "source": []
    }
  ],
  "metadata": {
    "colab": {
      "provenance": []
    },
    "kernelspec": {
      "display_name": "Python 3",
      "name": "python3"
    },
    "language_info": {
      "name": "python"
    }
  },
  "nbformat": 4,
  "nbformat_minor": 0
}
