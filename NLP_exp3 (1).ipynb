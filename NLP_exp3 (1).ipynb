{
 "cells": [
  {
   "cell_type": "markdown",
   "metadata": {
    "id": "72Npv_IxO1rq"
   },
   "source": [
    "### name SIDDHI SUBHEDAR\n",
    "### prn 1262240621"
   ]
  },
  {
   "cell_type": "markdown",
   "metadata": {
    "id": "0A2xo9sv_xT6"
   },
   "source": [
    "# Minimum Edit Distance"
   ]
  },
  {
   "cell_type": "markdown",
   "metadata": {
    "id": "89ToiVp6_4KT"
   },
   "source": [
    "## Function To Calculate Matrix and Backtrace"
   ]
  },
  {
   "cell_type": "code",
   "execution_count": null,
   "metadata": {
    "id": "PgPe_bnKOwrg"
   },
   "outputs": [],
   "source": [
    "def minEditDist(s1,s2):\n",
    "  matrix = [[0 for i in range(0, len(s2)+1)] for i in range(0, len(s1)+1)]\n",
    "  #print(matrix)\n",
    "  for i in range(0,len(s1)+1):\n",
    "    matrix[i][0] = i\n",
    "  for i in range(0,len(s2)+1):\n",
    "    matrix[0][i] = i\n",
    "  #print(matrix)\n",
    "  for i in range(1,len(s1)+1):\n",
    "    for j in range(1,len(s2)+1):\n",
    "      if s1[i-1] == s2[j-1]:\n",
    "        eq_check = 0\n",
    "      else:\n",
    "        eq_check = 2\n",
    "      matrix[i][j] = min(\n",
    "          matrix[i-1][j]+1,\n",
    "          matrix[i][j-1]+1,\n",
    "          matrix[i-1][j-1]+eq_check\n",
    "      )\n",
    "  for i in range(0, len(s1)+1):\n",
    "    for j in range(0, len(s2)+1):\n",
    "      print(matrix[i][j], end = \" \")\n",
    "    print()\n",
    "  insertions = 0\n",
    "  deletions = 0\n",
    "  substitutions = 0\n",
    "  i = len(s1)\n",
    "  j = len(s2)\n",
    "  while i > 0 or j > 0:\n",
    "    if i > 0 and j > 0 and s1[i-1] == s2[j-1]:\n",
    "      i -= 1\n",
    "      j -= 1\n",
    "    elif i > 0 and j > 0 and matrix[i][j] == matrix[i-1][j-1] + 2:\n",
    "      substitutions += 1\n",
    "      i -= 1\n",
    "      j -= 1\n",
    "    elif j > 0 and matrix[i][j] == matrix[i][j-1] + 1:\n",
    "      insertions += 1\n",
    "      j -= 1\n",
    "    elif i > 0 and matrix[i][j] == matrix[i-1][j] + 1:\n",
    "      deletions += 1\n",
    "      i -= 1\n",
    "  return matrix[len(s1)][len(s2)], insertions, deletions, substitutions"
   ]
  },
  {
   "cell_type": "markdown",
   "metadata": {
    "id": "1BwtbsQrACtp"
   },
   "source": [
    "## Test Cases"
   ]
  },
  {
   "cell_type": "code",
   "execution_count": null,
   "metadata": {
    "colab": {
     "base_uri": "https://localhost:8080/"
    },
    "id": "KmfnZf3NPhWA",
    "outputId": "59b53eda-4ea1-4c25-c20c-eea909fc8031"
   },
   "outputs": [
    {
     "name": "stdout",
     "output_type": "stream",
     "text": [
      "0 1 2 3 4 5 6 7 8 9 \n",
      "1 2 3 4 5 6 7 6 7 8 \n",
      "2 3 4 5 6 7 8 7 8 7 \n",
      "3 4 5 6 7 8 7 8 9 8 \n",
      "4 3 4 5 6 7 8 9 10 9 \n",
      "5 4 5 6 7 8 9 10 11 10 \n",
      "6 5 6 7 8 9 8 9 10 11 \n",
      "7 6 7 8 9 10 9 8 9 10 \n",
      "8 7 8 9 10 11 10 9 8 9 \n",
      "9 8 9 10 11 12 11 10 9 8 \n",
      "\n",
      "Edit Distance: 8\n",
      "Insertions: 1\n",
      "Deletions: 1\n",
      "Substitutions: 3\n"
     ]
    }
   ],
   "source": [
    "str1 = \"INTENTION\"\n",
    "str2 = \"EXECUTION\"\n",
    "distance, insertions, deletions, substitutions = minEditDist(str1,str2)\n",
    "print()\n",
    "print(\"Edit Distance:\", distance)\n",
    "print(\"Insertions:\", insertions)\n",
    "print(\"Deletions:\", deletions)\n",
    "print(\"Substitutions:\", substitutions)"
   ]
  },
  {
   "cell_type": "code",
   "execution_count": null,
   "metadata": {
    "colab": {
     "base_uri": "https://localhost:8080/"
    },
    "id": "p9N8OqqYPw6W",
    "outputId": "778ee7a4-48c8-441d-d5c8-1b51c5f87f8d"
   },
   "outputs": [
    {
     "name": "stdout",
     "output_type": "stream",
     "text": [
      "0 1 2 3 4 5 6 7 8 \n",
      "1 2 1 2 3 4 5 6 7 \n",
      "2 3 2 1 2 3 4 5 6 \n",
      "3 4 3 2 1 2 3 4 5 \n",
      "4 5 4 3 2 1 2 3 4 \n",
      "5 4 5 4 3 2 3 4 5 \n",
      "6 5 6 5 4 3 4 5 6 \n",
      "7 6 7 6 5 4 5 6 7 \n",
      "8 7 6 7 6 5 6 7 8 \n",
      "9 8 7 8 7 6 7 8 9 \n",
      "\n",
      "Edit Distance: 9\n",
      "Insertions: 1\n",
      "Deletions: 2\n",
      "Substitutions: 3\n"
     ]
    }
   ],
   "source": [
    "str1 = \"ENERGIZED\"\n",
    "str2 = \"GENEROUS\"\n",
    "distance, insertions, deletions, substitutions = minEditDist(str1,str2)\n",
    "print()\n",
    "print(\"Edit Distance:\", distance)\n",
    "print(\"Insertions:\", insertions)\n",
    "print(\"Deletions:\", deletions)\n",
    "print(\"Substitutions:\", substitutions)"
   ]
  },
  {
   "cell_type": "code",
   "execution_count": null,
   "metadata": {
    "colab": {
     "base_uri": "https://localhost:8080/"
    },
    "id": "DALVhh3w_p4D",
    "outputId": "cee1d6fd-1fab-4919-e91d-5491fa3556bc"
   },
   "outputs": [
    {
     "name": "stdout",
     "output_type": "stream",
     "text": [
      "0 1 2 3 4 5 6 7 8 9 10 \n",
      "1 0 1 2 3 4 5 6 7 8 9 \n",
      "2 1 0 1 2 3 4 5 6 7 8 \n",
      "3 2 1 0 1 2 3 4 5 6 7 \n",
      "4 3 2 1 2 3 4 5 6 7 8 \n",
      "5 4 3 2 3 4 5 6 7 8 9 \n",
      "6 5 4 3 4 3 4 5 6 7 8 \n",
      "7 6 5 4 5 4 3 4 5 6 7 \n",
      "8 7 6 5 6 5 4 5 6 7 8 \n",
      "9 8 7 6 7 6 5 6 7 8 9 \n",
      "\n",
      "Edit Distance: 9\n",
      "Insertions: 2\n",
      "Deletions: 1\n",
      "Substitutions: 3\n"
     ]
    }
   ],
   "source": [
    "str1 = \"CONQUERED\"\n",
    "str2 = \"CONVERSING\"\n",
    "distance, insertions, deletions, substitutions = minEditDist(str1,str2)\n",
    "print()\n",
    "print(\"Edit Distance:\", distance)\n",
    "print(\"Insertions:\", insertions)\n",
    "print(\"Deletions:\", deletions)\n",
    "print(\"Substitutions:\", substitutions)"
   ]
  },
  {
   "cell_type": "code",
   "execution_count": null,
   "metadata": {
    "colab": {
     "base_uri": "https://localhost:8080/"
    },
    "id": "qmDsPyQ67-8-",
    "outputId": "c95ff3ec-c686-43e2-d09c-1cb75e7c40a7"
   },
   "outputs": [
    {
     "name": "stdout",
     "output_type": "stream",
     "text": [
      "0 1 2 3 4 5 6 \n",
      "1 0 1 2 3 4 5 \n",
      "2 1 2 3 4 3 4 \n",
      "3 2 3 4 5 4 5 \n",
      "4 3 2 3 4 5 6 \n",
      "5 4 3 4 5 6 7 \n",
      "6 5 4 5 4 5 6 \n",
      "7 6 5 6 5 4 5 \n",
      "8 7 6 7 6 5 4 \n",
      "\n",
      "Edit Distance: 4\n",
      "Insertions: 0\n",
      "Deletions: 2\n",
      "Substitutions: 1\n"
     ]
    }
   ],
   "source": [
    "str1 = \"SATURDAY\"\n",
    "str2 = \"SUNDAY\"\n",
    "distance, insertions, deletions, substitutions = minEditDist(str1,str2)\n",
    "print()\n",
    "print(\"Edit Distance:\", distance)\n",
    "print(\"Insertions:\", insertions)\n",
    "print(\"Deletions:\", deletions)\n",
    "print(\"Substitutions:\", substitutions)"
   ]
  }
 ],
 "metadata": {
  "colab": {
   "provenance": [],
   "toc_visible": true
  },
  "kernelspec": {
   "display_name": "Python 3",
   "name": "python3"
  },
  "language_info": {
   "name": "python"
  }
 },
 "nbformat": 4,
 "nbformat_minor": 0
}
